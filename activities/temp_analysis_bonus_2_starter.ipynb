{
 "cells": [
  {
   "cell_type": "code",
   "execution_count": 122,
   "metadata": {},
   "outputs": [],
   "source": [
    "%matplotlib inline\n",
    "from matplotlib import style\n",
    "style.use('fivethirtyeight')\n",
    "import matplotlib.pyplot as plt"
   ]
  },
  {
   "cell_type": "code",
   "execution_count": 48,
   "metadata": {},
   "outputs": [],
   "source": [
    "import numpy as np\n",
    "import pandas as pd\n",
    "import datetime as dt"
   ]
  },
  {
   "cell_type": "markdown",
   "metadata": {},
   "source": [
    "## Reflect Tables into SQLALchemy ORM"
   ]
  },
  {
   "cell_type": "code",
   "execution_count": 49,
   "metadata": {},
   "outputs": [],
   "source": [
    "# Python SQL toolkit and Object Relational Mapper\n",
    "import sqlalchemy\n",
    "from sqlalchemy.ext.automap import automap_base\n",
    "from sqlalchemy.orm import Session\n",
    "from sqlalchemy import create_engine, func"
   ]
  },
  {
   "cell_type": "code",
   "execution_count": 50,
   "metadata": {},
   "outputs": [],
   "source": [
    "# create engine to hawaii.sqlite\n",
    "engine = create_engine(\"sqlite:///./Resources/hawaii.sqlite\")"
   ]
  },
  {
   "cell_type": "code",
   "execution_count": 51,
   "metadata": {},
   "outputs": [],
   "source": [
    "# reflect an existing database into a new model\n",
    "Base=automap_base()\n",
    "\n",
    "# reflect the tables\n",
    "Base.prepare(engine, reflect=True)"
   ]
  },
  {
   "cell_type": "code",
   "execution_count": 52,
   "metadata": {},
   "outputs": [
    {
     "data": {
      "text/plain": [
       "['measurement', 'station']"
      ]
     },
     "execution_count": 52,
     "metadata": {},
     "output_type": "execute_result"
    }
   ],
   "source": [
    "# View all of the classes that automap found\n",
    "Base.classes.keys()"
   ]
  },
  {
   "cell_type": "code",
   "execution_count": 53,
   "metadata": {},
   "outputs": [],
   "source": [
    "# Save references to each table\n",
    "Measurement = Base.classes.measurement\n",
    "Station = Base.classes.station"
   ]
  },
  {
   "cell_type": "code",
   "execution_count": 54,
   "metadata": {},
   "outputs": [],
   "source": [
    "# Create our session (link) from Python to the DB\n",
    "session = Session(engine)"
   ]
  },
  {
   "cell_type": "markdown",
   "metadata": {},
   "source": [
    "## Bonus Challenge Assignment: Temperature Analysis II"
   ]
  },
  {
   "cell_type": "code",
   "execution_count": 94,
   "metadata": {},
   "outputs": [
    {
     "name": "stdout",
     "output_type": "stream",
     "text": [
      "[(62.0, 69.57142857142857, 74.0)]\n"
     ]
    }
   ],
   "source": [
    "# This function called `calc_temps` will accept start date and end date in the format '%Y-%m-%d' \n",
    "# and return the minimum, maximum, and average temperatures for that range of dates\n",
    "def calc_temps(start_date, end_date):\n",
    "    \"\"\"TMIN, TAVG, and TMAX for a list of dates.\n",
    "    \n",
    "    Args:\n",
    "        start_date (string): A date string in the format %Y-%m-%d\n",
    "        end_date (string): A date string in the format %Y-%m-%d\n",
    "        \n",
    "    Returns:\n",
    "        TMIN, TAVE, and TMAX\n",
    "    \"\"\"\n",
    "    \n",
    "    return session.query(func.min(Measurement.tobs), func.avg(Measurement.tobs), func.max(Measurement.tobs)).\\\n",
    "        filter(Measurement.date >= start_date).filter(Measurement.date <= end_date).all()\n",
    "\n",
    "# For example\n",
    "print(calc_temps('2012-02-28', '2012-03-05'))"
   ]
  },
  {
   "cell_type": "code",
   "execution_count": 96,
   "metadata": {},
   "outputs": [
    {
     "name": "stdout",
     "output_type": "stream",
     "text": [
      " Minimum Temperature:63.0, Maximum Temperature:79.0, Average Temperature:70.01428571428572\n"
     ]
    }
   ],
   "source": [
    "# Use the function `calc_temps` to calculate the tmin, tavg, and tmax \n",
    "# for a year in the data set\n",
    "start_date = '2013-12-15'\n",
    "end_date = '2013-12-23'\n",
    "\n",
    "def calc_temps(start_date, end_date):\n",
    "    return(session.query(func.min(Measurement.tobs),\n",
    "                        func.avg(Measurement.tobs),\n",
    "                        func.max(Measurement.tobs))\n",
    "          .filter(Measurement.date>=start_date)\n",
    "          .filter(Measurement.date<=end_date)\n",
    "          .all())\n",
    "\n",
    "trip_tobs = calc_temps(start_date, end_date)\n",
    "print(f\" Minimum Temperature:{trip_tobs[0][0]}, Maximum Temperature:{trip_tobs[0][2]}, Average Temperature:{trip_tobs[0][1]}\")\n",
    "      "
   ]
  },
  {
   "cell_type": "code",
   "execution_count": 97,
   "metadata": {},
   "outputs": [],
   "source": [
    "# Plot the results from your previous query as a bar chart. \n",
    "# Use \"Trip Avg Temp\" as your Title\n",
    "# Use the average temperature for bar height (y value)\n",
    "# Use the peak-to-peak (tmax-tmin) value as the y error bar (yerr)"
   ]
  },
  {
   "cell_type": "code",
   "execution_count": 98,
   "metadata": {},
   "outputs": [
    {
     "data": {
      "text/plain": [
       "[70]"
      ]
     },
     "execution_count": 98,
     "metadata": {},
     "output_type": "execute_result"
    }
   ],
   "source": [
    "# Average temperature \n",
    "average_temp = [int(result[1]) for result in trip_tobs[::]]\n",
    "average_temp"
   ]
  },
  {
   "cell_type": "code",
   "execution_count": 99,
   "metadata": {},
   "outputs": [
    {
     "data": {
      "text/plain": [
       "[16.0]"
      ]
     },
     "execution_count": 99,
     "metadata": {},
     "output_type": "execute_result"
    }
   ],
   "source": [
    "# peak to peak temperature (tmax-tmin) \n",
    "min_max_temp = (session.query(func.max(Measurement.tobs) - func.min(Measurement.tobs))\n",
    "                                .filter(Measurement.date>=start_date)\n",
    "                                .filter(Measurement.date<=end_date)\n",
    "                                .all())\n",
    "\n",
    "# To return a contigious flatten array (1-D array)\n",
    "peaktopeak_temp = list(np.ravel(min_max_temp)) \n",
    "peaktopeak_temp "
   ]
  },
  {
   "cell_type": "code",
   "execution_count": 136,
   "metadata": {
    "scrolled": true
   },
   "outputs": [
    {
     "ename": "NameError",
     "evalue": "name 'tick_locations' is not defined",
     "output_type": "error",
     "traceback": [
      "\u001b[0;31m---------------------------------------------------------------------------\u001b[0m",
      "\u001b[0;31mNameError\u001b[0m                                 Traceback (most recent call last)",
      "Input \u001b[0;32mIn [136]\u001b[0m, in \u001b[0;36m<cell line: 5>\u001b[0;34m()\u001b[0m\n\u001b[1;32m      2\u001b[0m \u001b[38;5;66;03m#tick_locations = [value for value in x_axis]\u001b[39;00m\n\u001b[1;32m      4\u001b[0m plt\u001b[38;5;241m.\u001b[39mbar(x_axis, average_temp, color \u001b[38;5;241m=\u001b[39m \u001b[38;5;124m'\u001b[39m\u001b[38;5;124mblue\u001b[39m\u001b[38;5;124m'\u001b[39m, alpha \u001b[38;5;241m=\u001b[39m\u001b[38;5;241m0.3\u001b[39m, width\u001b[38;5;241m=\u001b[39m\u001b[38;5;241m0.1\u001b[39m, align\u001b[38;5;241m=\u001b[39m\u001b[38;5;124m'\u001b[39m\u001b[38;5;124mcenter\u001b[39m\u001b[38;5;124m'\u001b[39m, yerr\u001b[38;5;241m=\u001b[39mpeaktopeak_temp[\u001b[38;5;241m0\u001b[39m])\n\u001b[0;32m----> 5\u001b[0m plt\u001b[38;5;241m.\u001b[39mxticks(\u001b[43mtick_locations\u001b[49m,[(\u001b[38;5;124mf\u001b[39m\u001b[38;5;124m'\u001b[39m\u001b[38;5;124m From \u001b[39m\u001b[38;5;132;01m{\u001b[39;00mstart_date\u001b[38;5;132;01m}\u001b[39;00m\u001b[38;5;124m To \u001b[39m\u001b[38;5;132;01m{\u001b[39;00mend_date\u001b[38;5;132;01m}\u001b[39;00m\u001b[38;5;124m'\u001b[39m)], color \u001b[38;5;241m=\u001b[39m\u001b[38;5;124m\"\u001b[39m\u001b[38;5;124mblack\u001b[39m\u001b[38;5;124m\"\u001b[39m)\n\u001b[1;32m      6\u001b[0m plt\u001b[38;5;241m.\u001b[39mtitle(\u001b[38;5;124m'\u001b[39m\u001b[38;5;124mHonolulu, Hawaii\u001b[39m\u001b[38;5;130;01m\\n\u001b[39;00m\u001b[38;5;124mTrip Average Temperature\u001b[39m\u001b[38;5;124m'\u001b[39m, fontsize\u001b[38;5;241m=\u001b[39m\u001b[38;5;241m15\u001b[39m)\n\u001b[1;32m      7\u001b[0m plt\u001b[38;5;241m.\u001b[39mylabel(\u001b[38;5;124m\"\u001b[39m\u001b[38;5;124mTemperature (F)\u001b[39m\u001b[38;5;124m\"\u001b[39m)\n",
      "\u001b[0;31mNameError\u001b[0m: name 'tick_locations' is not defined"
     ]
    },
    {
     "data": {
      "image/png": "[encoded data removed]",
      "text/plain": [
       "<Figure size 288x504 with 1 Axes>"
      ]
     },
     "metadata": {},
     "output_type": "display_data"
    }
   ],
   "source": [
    "plt.rcParams['figure.figsize'] =(4,7)\n",
    "#tick_locations = [value for value in x_axis]\n",
    "\n",
    "plt.bar(x_axis, average_temp, color = 'blue', alpha =0.3, width=0.1, align='center', yerr=peaktopeak_temp[0])\n",
    "plt.xticks(tick_locations,[(f' From {start_date} To {end_date}')], color =\"black\")\n",
    "plt.title('Honolulu, Hawaii\\nTrip Average Temperature', fontsize=15)\n",
    "plt.ylabel(\"Temperature (F)\")\n",
    "plt.ytick(fontsize=14)\n",
    "plt.xlim(-0.1,0.1)\n",
    "plt.ylim(-5,100)\n",
    "\n",
    "plt.savefig(\"./Images/bar.png\")\n",
    "plt.show()"
   ]
  },
  {
   "cell_type": "markdown",
   "metadata": {},
   "source": [
    "### Daily Rainfall Average"
   ]
  },
  {
   "cell_type": "code",
   "execution_count": 101,
   "metadata": {},
   "outputs": [
    {
     "data": {
      "text/html": [
       "<div>\n",
       "<style scoped>\n",
       "    .dataframe tbody tr th:only-of-type {\n",
       "        vertical-align: middle;\n",
       "    }\n",
       "\n",
       "    .dataframe tbody tr th {\n",
       "        vertical-align: top;\n",
       "    }\n",
       "\n",
       "    .dataframe thead th {\n",
       "        text-align: right;\n",
       "    }\n",
       "</style>\n",
       "<table border=\"1\" class=\"dataframe\">\n",
       "  <thead>\n",
       "    <tr style=\"text-align: right;\">\n",
       "      <th></th>\n",
       "      <th>station</th>\n",
       "      <th>name</th>\n",
       "      <th>total_prcp</th>\n",
       "      <th>latitude</th>\n",
       "      <th>longitude</th>\n",
       "      <th>elevation</th>\n",
       "    </tr>\n",
       "  </thead>\n",
       "  <tbody>\n",
       "    <tr>\n",
       "      <th>0</th>\n",
       "      <td>USC00519397</td>\n",
       "      <td>KANEOHE 838.1, HI US</td>\n",
       "      <td>148.64</td>\n",
       "      <td>21.4234</td>\n",
       "      <td>-157.8015</td>\n",
       "      <td>14.6</td>\n",
       "    </tr>\n",
       "    <tr>\n",
       "      <th>1</th>\n",
       "      <td>USC00519397</td>\n",
       "      <td>WAIKIKI 717.2, HI US</td>\n",
       "      <td>18.58</td>\n",
       "      <td>21.2716</td>\n",
       "      <td>-157.8168</td>\n",
       "      <td>3.0</td>\n",
       "    </tr>\n",
       "  </tbody>\n",
       "</table>\n",
       "</div>"
      ],
      "text/plain": [
       "       station                  name  total_prcp  latitude  longitude  \\\n",
       "0  USC00519397  KANEOHE 838.1, HI US      148.64   21.4234  -157.8015   \n",
       "1  USC00519397  WAIKIKI 717.2, HI US       18.58   21.2716  -157.8168   \n",
       "\n",
       "   elevation  \n",
       "0       14.6  \n",
       "1        3.0  "
      ]
     },
     "execution_count": 101,
     "metadata": {},
     "output_type": "execute_result"
    }
   ],
   "source": [
    "# Calculate the total amount of rainfall per weather station for your trip dates using the previous year's \n",
    "# matching dates.\n",
    "# Sort this in descending order by precipitation amount and list the station, name, latitude, longitude, and elevation\n",
    "total_rainfall = (session.query(Measurement.station, Station.name,func.sum(Measurement.prcp),\n",
    "                               Station.latitude,Station.longitude,Station.elevation)\n",
    "                     .filter(Measurement.date>=start_date)\n",
    "                     .filter(Measurement.date<=end_date)\n",
    "                     .group_by(Measurement.station ==Station.station)\n",
    "                     .order_by(func.sum(Measurement.prcp)\n",
    "                    .desc())\n",
    "                     .all())\n",
    "\n",
    "total_rainfall_df = pd.DataFrame(total_rainfall,\n",
    "                                columns=['station','name','total_prcp','latitude',\n",
    "                                        'longitude', 'elevation'])\n",
    "total_rainfall_df "
   ]
  },
  {
   "cell_type": "markdown",
   "metadata": {},
   "source": [
    "### Daily Temperature Normals"
   ]
  },
  {
   "cell_type": "code",
   "execution_count": 102,
   "metadata": {},
   "outputs": [
    {
     "data": {
      "text/plain": [
       "[(62.0, 69.15384615384616, 77.0)]"
      ]
     },
     "execution_count": 102,
     "metadata": {},
     "output_type": "execute_result"
    }
   ],
   "source": [
    "# Use this function to calculate the daily normals \n",
    "# (i.e. the averages for tmin, tmax, and tavg for all historic data matching a specific month and day)\n",
    "\n",
    "def daily_normals(date):\n",
    "    \"\"\"Daily Normals.\n",
    "    \n",
    "    Args:\n",
    "        date (str): A date string in the format '%m-%d'\n",
    "        \n",
    "    Returns:\n",
    "        A list of tuples containing the daily normals, tmin, tavg, and tmax\n",
    "    \n",
    "    \"\"\"\n",
    "    \n",
    "    sel = [func.min(Measurement.tobs), func.avg(Measurement.tobs), func.max(Measurement.tobs)]\n",
    "    return session.query(*sel).filter(func.strftime(\"%m-%d\", Measurement.date) == date).all()\n",
    "\n",
    "# For example\n",
    "daily_normals(\"01-01\")"
   ]
  },
  {
   "cell_type": "code",
   "execution_count": 104,
   "metadata": {},
   "outputs": [
    {
     "data": {
      "text/plain": [
       "[(62.0, 71.34, 79.0),\n",
       " (60.0, 69.62, 82.0),\n",
       " (63.0, 70.64, 77.0),\n",
       " (63.0, 71.28, 77.0),\n",
       " (67.0, 72.0, 78.0),\n",
       " (65.0, 72.91, 81.0),\n",
       " (67.0, 72.14, 78.0),\n",
       " (67.0, 71.13, 77.0),\n",
       " (61.0, 70.35, 78.0)]"
      ]
     },
     "execution_count": 104,
     "metadata": {},
     "output_type": "execute_result"
    }
   ],
   "source": [
    "# calculate the daily normals for your trip\n",
    "\n",
    "# push each tuple of calculations into a list called `normals`\n",
    "normals =[]\n",
    "# Set the start and end date of the trip\n",
    "start_date = '2013-12-15'\n",
    "end_date = '2013-12-23'\n",
    "\n",
    "trip_days = ['12-15','12-16','12-17','12-18','12-19','12-20','12-21','12-22','12-23']\n",
    "\n",
    "# Use the start and end date to create a range of dates\n",
    "def daily_normals(date):\n",
    "    sel =[func.min(Measurement.tobs),func.round(func.avg(Measurement.tobs),2),\n",
    "         func.max(Measurement.tobs)]\n",
    "    \n",
    "    # Strip off the year and save a list of strings in the format %m-%d\n",
    "    return session.query(*sel).filter(func.strftime(\"%m-%d\", Measurement.date)==date).all()\n",
    "\n",
    "\n",
    "# Use the `daily_normals` function to calculate the normals for each date string \n",
    "for days in trip_days:\n",
    "    normals.append(daily_normals(days)[0])\n",
    "# and append the results to a list called `normals`.\n",
    "normals"
   ]
  },
  {
   "cell_type": "code",
   "execution_count": 106,
   "metadata": {},
   "outputs": [
    {
     "data": {
      "text/html": [
       "<div>\n",
       "<style scoped>\n",
       "    .dataframe tbody tr th:only-of-type {\n",
       "        vertical-align: middle;\n",
       "    }\n",
       "\n",
       "    .dataframe tbody tr th {\n",
       "        vertical-align: top;\n",
       "    }\n",
       "\n",
       "    .dataframe thead th {\n",
       "        text-align: right;\n",
       "    }\n",
       "</style>\n",
       "<table border=\"1\" class=\"dataframe\">\n",
       "  <thead>\n",
       "    <tr style=\"text-align: right;\">\n",
       "      <th></th>\n",
       "      <th>min_temp</th>\n",
       "      <th>average_temp</th>\n",
       "      <th>max_temp</th>\n",
       "    </tr>\n",
       "  </thead>\n",
       "  <tbody>\n",
       "    <tr>\n",
       "      <th>12-15</th>\n",
       "      <td>62.0</td>\n",
       "      <td>71.34</td>\n",
       "      <td>79.0</td>\n",
       "    </tr>\n",
       "    <tr>\n",
       "      <th>12-16</th>\n",
       "      <td>60.0</td>\n",
       "      <td>69.62</td>\n",
       "      <td>82.0</td>\n",
       "    </tr>\n",
       "    <tr>\n",
       "      <th>12-17</th>\n",
       "      <td>63.0</td>\n",
       "      <td>70.64</td>\n",
       "      <td>77.0</td>\n",
       "    </tr>\n",
       "    <tr>\n",
       "      <th>12-18</th>\n",
       "      <td>63.0</td>\n",
       "      <td>71.28</td>\n",
       "      <td>77.0</td>\n",
       "    </tr>\n",
       "    <tr>\n",
       "      <th>12-19</th>\n",
       "      <td>67.0</td>\n",
       "      <td>72.00</td>\n",
       "      <td>78.0</td>\n",
       "    </tr>\n",
       "    <tr>\n",
       "      <th>12-20</th>\n",
       "      <td>65.0</td>\n",
       "      <td>72.91</td>\n",
       "      <td>81.0</td>\n",
       "    </tr>\n",
       "    <tr>\n",
       "      <th>12-21</th>\n",
       "      <td>67.0</td>\n",
       "      <td>72.14</td>\n",
       "      <td>78.0</td>\n",
       "    </tr>\n",
       "    <tr>\n",
       "      <th>12-22</th>\n",
       "      <td>67.0</td>\n",
       "      <td>71.13</td>\n",
       "      <td>77.0</td>\n",
       "    </tr>\n",
       "    <tr>\n",
       "      <th>12-23</th>\n",
       "      <td>61.0</td>\n",
       "      <td>70.35</td>\n",
       "      <td>78.0</td>\n",
       "    </tr>\n",
       "  </tbody>\n",
       "</table>\n",
       "</div>"
      ],
      "text/plain": [
       "       min_temp  average_temp  max_temp\n",
       "12-15      62.0         71.34      79.0\n",
       "12-16      60.0         69.62      82.0\n",
       "12-17      63.0         70.64      77.0\n",
       "12-18      63.0         71.28      77.0\n",
       "12-19      67.0         72.00      78.0\n",
       "12-20      65.0         72.91      81.0\n",
       "12-21      67.0         72.14      78.0\n",
       "12-22      67.0         71.13      77.0\n",
       "12-23      61.0         70.35      78.0"
      ]
     },
     "execution_count": 106,
     "metadata": {},
     "output_type": "execute_result"
    }
   ],
   "source": [
    "# Load the previous query results into a Pandas DataFrame and add the `trip_dates` range as the `date` index\n",
    "trip_normal_df = pd.DataFrame(normals, columns=['min_temp','average_temp','max_temp'], index =trip_days)\n",
    "\n",
    "trip_normal_df"
   ]
  },
  {
   "cell_type": "code",
   "execution_count": 139,
   "metadata": {},
   "outputs": [
    {
     "data": {
      "image/png": "[encoded data removed]",
      "text/plain": [
       "<Figure size 720x720 with 1 Axes>"
      ]
     },
     "metadata": {},
     "output_type": "display_data"
    }
   ],
   "source": [
    "# Plot the daily normals as an area plot with `stacked=False`\n",
    "trip_normal_df.plot.area(stacked=False, alpha=0.5,figsize=(10,10));\n",
    "#plt.figure(figsize=(10,15))\n",
    "plt.xlabel('Date (MM-DD)',labelpad=20)\n",
    "plt.ylabel('Temperature (F)')\n",
    "plt.title('Daily Normal Temperature\\n Hawaii')\n",
    "plt.gca().legend(loc='center left',shadow=True, bbox_to_anchor=(1.02,0.91),)\n",
    "\n",
    "plt.savefig(\"./Images/Area_plot.png\")\n",
    "plt.autoscale(enable=True, axis='x', tight=True)\n",
    "plt.show()"
   ]
  },
  {
   "cell_type": "markdown",
   "metadata": {},
   "source": [
    "## Close Session"
   ]
  },
  {
   "cell_type": "code",
   "execution_count": null,
   "metadata": {},
   "outputs": [],
   "source": []
  }
 ],
 "metadata": {
  "kernelspec": {
   "display_name": "Python 3 (ipykernel)",
   "language": "python",
   "name": "python3"
  },
  "language_info": {
   "codemirror_mode": {
    "name": "ipython",
    "version": 3
   },
   "file_extension": ".py",
   "mimetype": "text/x-python",
   "name": "python",
   "nbconvert_exporter": "python",
   "pygments_lexer": "ipython3",
   "version": "3.9.12"
  }
 },
 "nbformat": 4,
 "nbformat_minor": 4
}
